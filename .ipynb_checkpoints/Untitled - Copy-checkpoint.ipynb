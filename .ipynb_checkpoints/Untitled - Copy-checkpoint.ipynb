{
 "cells": [
  {
   "cell_type": "markdown",
   "id": "8f9d9af5",
   "metadata": {},
   "source": [
    "<img src=\"enset.png\" width=\"200\" height=\"50\" style=\"float: right; margin-left: 0px;\">"
   ]
  },
  {
   "cell_type": "markdown",
   "id": "f7b136d7",
   "metadata": {},
   "source": [
    "<u><h1>Systèmes Décisionnels & Data-Mining</h1></u>\n",
    "\n"
   ]
  },
  {
   "cell_type": "markdown",
   "id": "eddf8e0b",
   "metadata": {},
   "source": [
    "## Classification (K-Moyennes)"
   ]
  },
  {
   "cell_type": "markdown",
   "id": "119dea5b",
   "metadata": {},
   "source": [
    "<span style=\"background-color: yellow;\">Algorithme</span>"
   ]
  },
  {
   "cell_type": "markdown",
   "id": "cf88177d",
   "metadata": {},
   "source": [
    "#### Phase d'initialisation (t = 0) :\n",
    "\n",
    "    Choisissez initialement p référents de manière aléatoire.\n",
    "    Fixez le nombre maximal d'itérations NiterNiter​.\n",
    "\n",
    "#### Étape itérative :\n",
    "    À chaque itération t, l'ensemble des référents W(t−1)W(t−1) de l'étape précédente est connu.\n",
    "\n",
    "#### Phase d'affectation :\n",
    "    Mise à jour de la fonction d'affectation χ(t)χ(t) associée à W(t−1)W(t−1). Pour chaque observation xx, on affecte le référent qui minimise la distance euclidienne ∣∣x−wr∣∣2∣∣x−wr​∣∣2, où rr est l'indice du référent choisi. La fonction d'affectation est définie comme :\n",
    "           χ(x)=argminr(∣∣x−wr∣∣2)\n",
    "           χ(x)=argminr​(∣∣x−wr​∣∣2)\n",
    "\n",
    "#### Phase de minimisation :\n",
    "    Calcul des nouveaux référents WtWt en appliquant l'équation suivante pour chaque cluster cc :\n",
    "       > wc=∑xi∈Pc∩Axinc\n",
    "       > wc​=nc​∑xi​∈Pc​∩A​xi​​\n",
    "\n",
    "    Où PcPc​ est l'ensemble des points assignés au cluster cc selon la fonction d'affectation χχ, AA est l'ensemble des observations, et ncnc​ est le nombre d'observations dans le cluster cc.\n",
    "\n",
    "    Répétition de l'étape itérative :\n",
    "    Répétez les phases d'affectation et de minimisation jusqu'à ce que l'on atteigne t>Nitert>Niter​ itérations ou jusqu'à ce qu'une certaine condition de stabilisation soit atteinte.\n",
    "\n",
    ">Cet algorithme itératif vise à trouver des référents représentatifs des clusters dans les données en mettant à jour alternativement les affectations des observations aux clusters et les positions des référents. Il continue à itérer jusqu'à ce qu'une condition d'arrêt soit remplie."
   ]
  },
  {
   "cell_type": "code",
   "execution_count": 33,
   "id": "5814f9fd",
   "metadata": {},
   "outputs": [],
   "source": [
    "import numpy as np\n",
    "from scipy.spatial import distance\n",
    "import pandas as pd\n",
    "from sklearn.datasets import load_iris\n",
    "from sklearn.datasets import make_blobs\n",
    "import matplotlib.pyplot as plt"
   ]
  },
  {
   "cell_type": "code",
   "execution_count": 34,
   "id": "3fe65e8c",
   "metadata": {},
   "outputs": [],
   "source": [
    "# Générer des données avec make_blobs\n",
    "centers = [[0, 0], [3, 3]]\n",
    "data, true_labels = make_blobs(centers=centers, n_samples=100)"
   ]
  },
  {
   "cell_type": "code",
   "execution_count": 35,
   "id": "2830d484",
   "metadata": {},
   "outputs": [],
   "source": [
    "def initialisation(data, k):\n",
    "    indices = np.random.choice(data.shape[0], k, replace=False)\n",
    "    centroids = data[indices]\n",
    "    return centroids"
   ]
  },
  {
   "cell_type": "code",
   "execution_count": 36,
   "id": "0286632c",
   "metadata": {},
   "outputs": [],
   "source": [
    "def affectation(data, centroids):\n",
    "    labels = np.argmin(distance.cdist(data, centroids), axis=1)\n",
    "    return labels"
   ]
  },
  {
   "cell_type": "code",
   "execution_count": 37,
   "id": "df1cb251",
   "metadata": {},
   "outputs": [],
   "source": [
    "def minimisation(data, labels, k):\n",
    "    new_centroids = np.array([np.mean(data[labels == i], axis=0) for i in range(k)])\n",
    "    return new_centroids"
   ]
  },
  {
   "cell_type": "code",
   "execution_count": 38,
   "id": "1de8cfd5",
   "metadata": {},
   "outputs": [],
   "source": [
    "def k_means(data, k, max_iterations=100):\n",
    "    centroids = initialisation(data, k)\n",
    "    for _ in range(max_iterations):\n",
    "        labels = affectation(data, centroids)\n",
    "        new_centroids = minimisation(data, labels, k)\n",
    "        if np.all(centroids == new_centroids):\n",
    "            break\n",
    "        centroids = new_centroids\n",
    "    return labels, centroids"
   ]
  },
  {
   "cell_type": "code",
   "execution_count": 39,
   "id": "d393fe68",
   "metadata": {},
   "outputs": [],
   "source": [
    "# Appliquer l'algorithme K-Moyennes\n",
    "k = 2  # Choisissez le nombre de clusters\n",
    "labels, centroids = k_means(data, k)"
   ]
  },
  {
   "cell_type": "code",
   "execution_count": 46,
   "id": "cef8bffd",
   "metadata": {},
   "outputs": [],
   "source": [
    "def inertie_intra_class(data, labels, centroids):\n",
    "    total_distance = 0\n",
    "    for i in range(len(centroids)):\n",
    "        cluster_points = data[labels == i]\n",
    "        centroid = centroids[i]\n",
    "        total_distance += np.sum(distance.euclidean(point, centroid)**2 for point in cluster_points)\n",
    "    return total_distance / len(data)\n",
    "\n",
    "def inertie_inter_class(data, labels, centroids):\n",
    "    total_distance = 0\n",
    "    global_centroid = np.mean(data, axis=0)\n",
    "    for i in range(len(centroids)):\n",
    "        cluster_points = data[labels == i]\n",
    "        centroid = centroids[i]\n",
    "        total_distance += len(cluster_points) * distance.euclidean(centroid, global_centroid)**2\n",
    "    return total_distance / len(data)\n",
    "\n",
    "def inertie_totale(data, labels, centroids):\n",
    "    total_distance = 0\n",
    "    for i, point in enumerate(data):\n",
    "        centroid = centroids[labels[i]]\n",
    "        total_distance += distance.euclidean(point, centroid)**2\n",
    "    return total_distance / len(data)\n"
   ]
  },
  {
   "cell_type": "code",
   "execution_count": 47,
   "id": "9ea9fbba",
   "metadata": {},
   "outputs": [
    {
     "name": "stdout",
     "output_type": "stream",
     "text": [
      "Inertie Intra-Classe: 1.8309878600724627\n",
      "Inertie Inter-Classe: 4.2343361191515605\n",
      "Inertie Totale: 1.8309878600724638\n"
     ]
    },
    {
     "name": "stderr",
     "output_type": "stream",
     "text": [
      "C:\\Users\\fatim\\AppData\\Local\\Temp\\ipykernel_14520\\1679287848.py:6: DeprecationWarning: Calling np.sum(generator) is deprecated, and in the future will give a different result. Use np.sum(np.fromiter(generator)) or the python sum builtin instead.\n",
      "  total_distance += np.sum(distance.euclidean(point, centroid)**2 for point in cluster_points)\n"
     ]
    }
   ],
   "source": [
    "# Calculer des inerties\n",
    "intra_inertie = inertie_intra_class(data, labels, centroids)\n",
    "print(\"Inertie Intra-Classe:\", intra_inertie)\n",
    "\n",
    "inter_inertie = inertie_inter_class(data, labels, centroids)\n",
    "print(\"Inertie Inter-Classe:\", inter_inertie)\n",
    "\n",
    "total_inertie = inertie_totale(data, labels, centroids)\n",
    "print(\"Inertie Totale:\", total_inertie)\n"
   ]
  },
  {
   "cell_type": "code",
   "execution_count": 48,
   "id": "7296aa84",
   "metadata": {},
   "outputs": [
    {
     "name": "stdout",
     "output_type": "stream",
     "text": [
      "Labels finaux : [1 0 1 1 0 0 0 1 1 0 1 0 0 0 0 0 1 0 0 1 0 1 1 0 1 1 1 1 1 0 0 1 0 1 0 1 0\n",
      " 0 1 1 1 1 1 1 0 1 1 0 1 0 0 0 1 0 0 0 1 0 0 0 0 1 1 1 0 1 1 0 0 0 1 0 0 1\n",
      " 1 0 0 0 0 1 1 0 0 1 1 0 1 1 1 1 1 1 1 1 0 0 0 1 1 0]\n",
      "Centroids finaux :\n",
      " [[-0.04725001  0.07011909]\n",
      " [ 2.99505641  2.84293243]]\n"
     ]
    }
   ],
   "source": [
    "# Afficher les résultats\n",
    "print(\"Labels finaux :\", labels)\n",
    "print(\"Centroids finaux :\\n\", centroids)"
   ]
  },
  {
   "cell_type": "code",
   "execution_count": 51,
   "id": "fb5a87d1",
   "metadata": {},
   "outputs": [
    {
     "data": {
      "image/png": "[encoded data removed]",
      "text/plain": [
       "<Figure size 640x480 with 1 Axes>"
      ]
     },
     "metadata": {},
     "output_type": "display_data"
    }
   ],
   "source": [
    "# Visualiser les données avec les clusters\n",
    "plt.scatter(data[:, 0], data[:, 1], c=labels, cmap='viridis')\n",
    "plt.scatter(centroids[:, 0], centroids[:, 1], marker='X', s=200, c='red')\n",
    "plt.title('Clustering avec K-Moyennes')\n",
    "plt.xlabel('Feature 1')\n",
    "plt.ylabel('Feature 2')\n",
    "plt.show()"
   ]
  },
  {
   "cell_type": "code",
   "execution_count": null,
   "id": "38be2ba6",
   "metadata": {},
   "outputs": [],
   "source": []
  }
 ],
 "metadata": {
  "kernelspec": {
   "display_name": "Python 3 (ipykernel)",
   "language": "python",
   "name": "python3"
  },
  "language_info": {
   "codemirror_mode": {
    "name": "ipython",
    "version": 3
   },
   "file_extension": ".py",
   "mimetype": "text/x-python",
   "name": "python",
   "nbconvert_exporter": "python",
   "pygments_lexer": "ipython3",
   "version": "3.11.5"
  }
 },
 "nbformat": 4,
 "nbformat_minor": 5
}
