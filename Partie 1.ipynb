{
 "cells": [
  {
   "cell_type": "markdown",
   "id": "acc94aea-7324-464f-9b6b-3cd62af2974c",
   "metadata": {},
   "source": [
    "# Systemes Decisionnels & Data-Mining\n",
    "## **Atelier 1 : Regression Logistique**"
   ]
  },
  {
   "cell_type": "code",
   "execution_count": 1,
   "id": "9f9e2c8e-b0e8-4120-811f-0fbedde1a81c",
   "metadata": {},
   "outputs": [],
   "source": [
    "import pandas as pd\n",
    "import numpy as np\n",
    "import matplotlib.pyplot as plt\n",
    "from sklearn.model_selection import train_test_split"
   ]
  },
  {
   "cell_type": "markdown",
   "id": "420cc2c8-4c40-48f9-acbc-03cf0a456672",
   "metadata": {},
   "source": [
    "### 1. R\u0013ecup\u0013erer des donn\u0013ees \u0012a partir de \f",
    "chier advertising.scv et d\u0013ecouvrir ses principales caract\u0013eristiques."
   ]
  },
  {
   "cell_type": "code",
   "execution_count": 5,
   "id": "6a56433a-ec77-4c35-a133-63acd6971d4b",
   "metadata": {},
   "outputs": [
    {
     "name": "stdout",
     "output_type": "stream",
     "text": [
      "      TV  Radio  Newspaper  Sales\n",
      "0  230.1   37.8       69.2   22.1\n",
      "1   44.5   39.3       45.1   10.4\n",
      "2   17.2   45.9       69.3   12.0\n",
      "3  151.5   41.3       58.5   16.5\n",
      "4  180.8   10.8       58.4   17.9\n"
     ]
    }
   ],
   "source": [
    "data = pd.read_csv('advertising.csv')\n",
    "print(data.head())"
   ]
  },
  {
   "cell_type": "markdown",
   "id": "b39a6139-07d1-49cb-a0c2-b3c9ea9f36dc",
   "metadata": {},
   "source": [
    "### 2. Initialiser X (predictors, variable ind\u0013ependante) par la variable TV et y (cible, variable d\u0013ependante)."
   ]
  },
  {
   "cell_type": "code",
   "execution_count": 6,
   "id": "74515186-be55-4b19-a577-c62d5e9364f1",
   "metadata": {},
   "outputs": [],
   "source": [
    "X = data[['TV']]\n",
    "y = data['Sales']"
   ]
  },
  {
   "cell_type": "markdown",
   "id": "02ef7921-6280-436d-817d-2f3e4ce88b95",
   "metadata": {},
   "source": [
    "### 3. Pourquoi il s'agit d'un probl\u0012eme de r\u0013egression"
   ]
  },
  {
   "cell_type": "markdown",
   "id": "73e6951f-969c-4c53-aeb6-ce25e10d599c",
   "metadata": {},
   "source": [
    "Il s'agit d'un problème de régression car nous cherchons à prédire une variable continue (Sales) en fonction d'une autre variable (TV)."
   ]
  },
  {
   "cell_type": "markdown",
   "id": "aac5a133-ff6d-46a5-b5e3-4c01c8a1a536",
   "metadata": {},
   "source": [
    "### 4. Visualiser la base de donn\u0013ees avec matplotlib."
   ]
  },
  {
   "cell_type": "code",
   "execution_count": 7,
   "id": "4c4c610e-6b3b-4e29-952e-954ecf362e29",
   "metadata": {},
   "outputs": [
    {
     "data": {
      "image/png": "[encoded data removed]",
      "text/plain": [
       "<Figure size 640x480 with 1 Axes>"
      ]
     },
     "metadata": {},
     "output_type": "display_data"
    }
   ],
   "source": [
    "plt.scatter(X, y)\n",
    "plt.xlabel('TV')\n",
    "plt.ylabel('Sales')\n",
    "plt.show()"
   ]
  },
  {
   "cell_type": "markdown",
   "id": "e6893b52-b88c-463a-bfec-c1a32abafa08",
   "metadata": {},
   "source": [
    "### 5. Soit le mod\u0012ele de r\u0013egression lin\u0013eaire simple d\u0013e\f",
    "finit par\n",
    "**𝑦 = 𝑤0 + 𝑤1𝑥**"
   ]
  },
  {
   "cell_type": "markdown",
   "id": "63b08395-5b22-497c-a5e9-0479ac7d0261",
   "metadata": {},
   "source": [
    "#### - \u0012a l'aide de train test split de sklearn.model selection, diviser la base de donn\u0013ees en base d'apprentissage et base de test (80% pour la base d'apprentissage et 20% pour la base de test )"
   ]
  },
  {
   "cell_type": "code",
   "execution_count": 8,
   "id": "d73bcb2a-cfc8-4f21-9076-3258ef74352d",
   "metadata": {},
   "outputs": [],
   "source": [
    "X_train, X_test, y_train, y_test = train_test_split(X, y, test_size=0.2, random_state=42)"
   ]
  },
  {
   "cell_type": "markdown",
   "id": "6ec16875-dab5-424c-b43d-e5a07cecd2db",
   "metadata": {},
   "source": [
    "#### - D\u0013ef\f",
    "nir une fonction MSE(X,y,W) qui retourne la moyenne des erreurs entre la valeur theorique et la valeur r\u0013eelle."
   ]
  },
  {
   "cell_type": "code",
   "execution_count": 9,
   "id": "324da1e2-2c99-4967-9b32-e8f35b8597cf",
   "metadata": {},
   "outputs": [],
   "source": [
    "def MSE(X, y, W):\n",
    "    y_pred = X.dot(W)\n",
    "    return ((y - y_pred) ** 2).mean()"
   ]
  },
  {
   "cell_type": "markdown",
   "id": "20bd4638-44c3-47b0-8bfd-baaf8407f149",
   "metadata": {},
   "source": [
    "#### - D\u0013efi\f",
    "nir la fonction Gradient(X,y,W)."
   ]
  },
  {
   "cell_type": "code",
   "execution_count": 10,
   "id": "cb63a3e3-a9e7-4eb9-9c07-ab0d757b39bf",
   "metadata": {},
   "outputs": [],
   "source": [
    "def Gradient(X, y, W):\n",
    "    return -2 * X.T.dot(y - X.dot(W)) / len(y)"
   ]
  },
  {
   "cell_type": "markdown",
   "id": "737aa4a1-6038-47d3-8e5f-d3ccf5b52da8",
   "metadata": {},
   "source": [
    "#### - Etablir une fonction de mise \u0012a jour des param\u0012etres W MiseJour(grad,W,alpha)."
   ]
  },
  {
   "cell_type": "code",
   "execution_count": 12,
   "id": "80e7840c-0d95-473e-bbbb-a74607f6507c",
   "metadata": {},
   "outputs": [],
   "source": [
    "def MiseJour(grad, W, alpha):\n",
    "    return W - alpha * grad"
   ]
  },
  {
   "cell_type": "markdown",
   "id": "d98a409a-0f22-4507-9cd6-54a81539db91",
   "metadata": {},
   "source": [
    "#### - Ecrire la fonction Batch Gradient Descent(X,y,W,N max,alpha,eps), qui retourne les meilleurs param\u0012etres estim\u0013es et de plus a\u000eche l'\u0013evolution de MSE apr\u0012es chaque it\u0013eration."
   ]
  },
  {
   "cell_type": "code",
   "execution_count": 18,
   "id": "327f0e8c-34e2-4046-8525-1d5b42f218b7",
   "metadata": {},
   "outputs": [],
   "source": [
    "def Batch_Gradient_Descent(X, y, W, N_max, alpha, eps):\n",
    "    mse_values = []\n",
    "    for _ in range(N_max):\n",
    "        grad = Gradient(X, y, W)\n",
    "        W = MiseJour(grad, W, alpha)\n",
    "        mse = MSE(X, y, W)\n",
    "        mse_values.append(mse)\n",
    "        if mse < eps:\n",
    "            break\n",
    "    return W, mse_values\n",
    "W_initial = np.zeros((X_train.shape[1]))\n",
    "W_optimal, mse_values = Batch_Gradient_Descent(X_train, y_train, W_initial, N_max=1000, alpha=0.1, eps=0.001)"
   ]
  },
  {
   "cell_type": "markdown",
   "id": "b07df97f-ca6f-45eb-ac00-73569a6c05a2",
   "metadata": {},
   "source": [
    "#### - Tracer l'MSE."
   ]
  },
  {
   "cell_type": "code",
   "execution_count": 19,
   "id": "00992a49-6290-497f-b780-d966e6d8388e",
   "metadata": {},
   "outputs": [
    {
     "data": {
      "image/png": "[encoded data removed]",
      "text/plain": [
       "<Figure size 640x480 with 1 Axes>"
      ]
     },
     "metadata": {},
     "output_type": "display_data"
    }
   ],
   "source": [
    "plt.plot(mse_values)\n",
    "plt.xlabel('Iterations')\n",
    "plt.ylabel('MSE')\n",
    "plt.show()"
   ]
  },
  {
   "cell_type": "markdown",
   "id": "b86e843d-85e9-4d6b-a648-b76c8e7bf787",
   "metadata": {},
   "source": [
    "#### - Donner l'erreur de ce mod\u0012ele."
   ]
  },
  {
   "cell_type": "code",
   "execution_count": 20,
   "id": "0d66c317-eb7a-460e-a92b-9265680cf6a8",
   "metadata": {},
   "outputs": [
    {
     "name": "stdout",
     "output_type": "stream",
     "text": [
      "Erreur MSE finale sur l'ensemble de test : nan\n"
     ]
    }
   ],
   "source": [
    "final_mse = MSE(X_test, y_test, W_optimal)\n",
    "print(f'Erreur MSE finale sur l\\'ensemble de test : {final_mse}')"
   ]
  },
  {
   "cell_type": "code",
   "execution_count": null,
   "id": "24873ba7-95cf-43f1-a90d-56950c6cc032",
   "metadata": {},
   "outputs": [],
   "source": []
  }
 ],
 "metadata": {
  "kernelspec": {
   "display_name": "Python 3 (ipykernel)",
   "language": "python",
   "name": "python3"
  },
  "language_info": {
   "codemirror_mode": {
    "name": "ipython",
    "version": 3
   },
   "file_extension": ".py",
   "mimetype": "text/x-python",
   "name": "python",
   "nbconvert_exporter": "python",
   "pygments_lexer": "ipython3",
   "version": "3.11.4"
  }
 },
 "nbformat": 4,
 "nbformat_minor": 5
}
