{
 "cells": [
  {
   "cell_type": "markdown",
   "id": "7957cf22",
   "metadata": {},
   "source": [
    "<img src=\"enset.png\" width=\"200\" height=\"50\" style=\"float: right; margin-left: 0px;\">"
   ]
  },
  {
   "cell_type": "markdown",
   "id": "2057dc84-3238-4a8d-8e4e-17c73be22333",
   "metadata": {},
   "source": [
    "<u><h1>Systèmes Décisionnels & Data-Mining</h1></u>\n",
    "\n"
   ]
  },
  {
   "cell_type": "markdown",
   "id": "4adccad5",
   "metadata": {},
   "source": [
    "## Atelier 1 : Régression Logistique"
   ]
  },
  {
   "cell_type": "markdown",
   "id": "c78ae595-1d54-40c3-8d6b-83daa65ab78b",
   "metadata": {},
   "source": [
    "Dans la première et deuxième partie de cet atelier, on va utiliser la base de données Advertising. Alors, l’objectif principal est de créer un modèle de régression pour prédire la variable Sales. La troisième partie traite le problème de classification en appliquant la régression logistique sur la base de données diabetescsv.csv. Pour cela, on commence à savoir comment :\n",
    "- Récupérer des données à partir d’un fichier csv et découvrir ses principales caractéristiques.\n",
    "- Visualiser les données sous forme de graphe.\n",
    "phe."
   ]
  },
  {
   "cell_type": "markdown",
   "id": "898cf60f-f80c-42e7-951f-0c4293713161",
   "metadata": {},
   "source": [
    "<span style=\"background-color: yellow;\">Partie 1 : Régression linéaire simple</span>"
   ]
  },
  {
   "cell_type": "code",
   "execution_count": 1,
   "id": "e04c9d52",
   "metadata": {},
   "outputs": [],
   "source": [
    "import pandas as pd\n",
    "import matplotlib.pyplot as plt\n",
    "from sklearn.model_selection import train_test_split"
   ]
  },
  {
   "cell_type": "markdown",
   "id": "ec788ea5-58c1-427c-8eb8-745ab00424eb",
   "metadata": {},
   "source": [
    "> 1. Récupérer des données à partir du fichier `advertising.csv` et découvrir ses principales caractéristiques.\n"
   ]
  },
  {
   "cell_type": "code",
   "execution_count": 2,
   "id": "2fe543e9-78b1-480f-9fda-be29e9d14bd9",
   "metadata": {},
   "outputs": [],
   "source": [
    "csv_file = 'datasets/advertising.csv'\n",
    "df = pd.read_csv(csv_file)"
   ]
  },
  {
   "cell_type": "code",
   "execution_count": 3,
   "id": "215d681e-048d-47b8-aa45-96ac690384c4",
   "metadata": {},
   "outputs": [
    {
     "data": {
      "text/html": [
       "<div>\n",
       "<style scoped>\n",
       "    .dataframe tbody tr th:only-of-type {\n",
       "        vertical-align: middle;\n",
       "    }\n",
       "\n",
       "    .dataframe tbody tr th {\n",
       "        vertical-align: top;\n",
       "    }\n",
       "\n",
       "    .dataframe thead th {\n",
       "        text-align: right;\n",
       "    }\n",
       "</style>\n",
       "<table border=\"1\" class=\"dataframe\">\n",
       "  <thead>\n",
       "    <tr style=\"text-align: right;\">\n",
       "      <th></th>\n",
       "      <th>TV</th>\n",
       "      <th>Radio</th>\n",
       "      <th>Newspaper</th>\n",
       "      <th>Sales</th>\n",
       "    </tr>\n",
       "  </thead>\n",
       "  <tbody>\n",
       "    <tr>\n",
       "      <th>count</th>\n",
       "      <td>200.000000</td>\n",
       "      <td>200.000000</td>\n",
       "      <td>200.000000</td>\n",
       "      <td>200.000000</td>\n",
       "    </tr>\n",
       "    <tr>\n",
       "      <th>mean</th>\n",
       "      <td>147.042500</td>\n",
       "      <td>23.264000</td>\n",
       "      <td>30.554000</td>\n",
       "      <td>15.130500</td>\n",
       "    </tr>\n",
       "    <tr>\n",
       "      <th>std</th>\n",
       "      <td>85.854236</td>\n",
       "      <td>14.846809</td>\n",
       "      <td>21.778621</td>\n",
       "      <td>5.283892</td>\n",
       "    </tr>\n",
       "    <tr>\n",
       "      <th>min</th>\n",
       "      <td>0.700000</td>\n",
       "      <td>0.000000</td>\n",
       "      <td>0.300000</td>\n",
       "      <td>1.600000</td>\n",
       "    </tr>\n",
       "    <tr>\n",
       "      <th>25%</th>\n",
       "      <td>74.375000</td>\n",
       "      <td>9.975000</td>\n",
       "      <td>12.750000</td>\n",
       "      <td>11.000000</td>\n",
       "    </tr>\n",
       "    <tr>\n",
       "      <th>50%</th>\n",
       "      <td>149.750000</td>\n",
       "      <td>22.900000</td>\n",
       "      <td>25.750000</td>\n",
       "      <td>16.000000</td>\n",
       "    </tr>\n",
       "    <tr>\n",
       "      <th>75%</th>\n",
       "      <td>218.825000</td>\n",
       "      <td>36.525000</td>\n",
       "      <td>45.100000</td>\n",
       "      <td>19.050000</td>\n",
       "    </tr>\n",
       "    <tr>\n",
       "      <th>max</th>\n",
       "      <td>296.400000</td>\n",
       "      <td>49.600000</td>\n",
       "      <td>114.000000</td>\n",
       "      <td>27.000000</td>\n",
       "    </tr>\n",
       "  </tbody>\n",
       "</table>\n",
       "</div>"
      ],
      "text/plain": [
       "               TV       Radio   Newspaper       Sales\n",
       "count  200.000000  200.000000  200.000000  200.000000\n",
       "mean   147.042500   23.264000   30.554000   15.130500\n",
       "std     85.854236   14.846809   21.778621    5.283892\n",
       "min      0.700000    0.000000    0.300000    1.600000\n",
       "25%     74.375000    9.975000   12.750000   11.000000\n",
       "50%    149.750000   22.900000   25.750000   16.000000\n",
       "75%    218.825000   36.525000   45.100000   19.050000\n",
       "max    296.400000   49.600000  114.000000   27.000000"
      ]
     },
     "execution_count": 3,
     "metadata": {},
     "output_type": "execute_result"
    }
   ],
   "source": [
    "df.describe()"
   ]
  },
  {
   "cell_type": "code",
   "execution_count": 4,
   "id": "f1124f47-46b4-4cb3-9bb0-581d4d42df9c",
   "metadata": {},
   "outputs": [
    {
     "data": {
      "text/plain": [
       "(200, 4)"
      ]
     },
     "execution_count": 4,
     "metadata": {},
     "output_type": "execute_result"
    }
   ],
   "source": [
    "df.shape"
   ]
  },
  {
   "cell_type": "markdown",
   "id": "4f58c60e-ec91-4940-ba11-56aa274e522d",
   "metadata": {},
   "source": [
    "> 2. Initialiser X (predictors, variable indépendante) par la variable TV et y (cible, variable dépendante)."
   ]
  },
  {
   "cell_type": "code",
   "execution_count": 5,
   "id": "7865541b-6601-4c4c-bdce-2a6fd0e1bdf8",
   "metadata": {},
   "outputs": [],
   "source": [
    "X = df['TV']\n",
    "y = df['Sales']"
   ]
  },
  {
   "cell_type": "markdown",
   "id": "39d53a41-4867-41bc-ba22-396e7426e131",
   "metadata": {},
   "source": [
    "> 3. Pourquoi il s’agit d’un problème de régression"
   ]
  },
  {
   "cell_type": "markdown",
   "id": "d0cb131b-889c-4c28-addd-d3ed4c815ad1",
   "metadata": {},
   "source": [
    "Il s'agit d'un problème de régression car nous cherchons à prédire une variable continue (Sales) en fonction d'une autre variable (TV)."
   ]
  },
  {
   "cell_type": "markdown",
   "id": "03131878-e0bf-4aa2-a5f0-7ac0ad04329f",
   "metadata": {},
   "source": [
    "> 4. Visualiser la base de données avec matplotlib."
   ]
  },
  {
   "cell_type": "code",
   "execution_count": 6,
   "id": "789520ae-d17c-43c9-8095-d7ebcfe5a6d5",
   "metadata": {},
   "outputs": [
    {
     "data": {
      "image/png": "[encoded data removed]",
      "text/plain": [
       "<Figure size 640x480 with 1 Axes>"
      ]
     },
     "metadata": {},
     "output_type": "display_data"
    }
   ],
   "source": [
    "plt.scatter(X, y)\n",
    "plt.xlabel('TV')\n",
    "plt.ylabel('Sales')\n",
    "plt.title('Sales en fonction de TV')\n",
    "plt.show()"
   ]
  },
  {
   "cell_type": "markdown",
   "id": "4dc8daeb-c3f3-4123-ac3e-1f787924998c",
   "metadata": {},
   "source": [
    "> 5. Soit le modèle de régression linéaire simple définit par"
   ]
  },
  {
   "cell_type": "markdown",
   "id": "d446778b-7595-4eb2-ab72-22198b8a89bb",
   "metadata": {},
   "source": [
    "$$\n",
    "y = w_{0} + w_{1}x\n",
    "$$"
   ]
  },
  {
   "cell_type": "markdown",
   "id": "3b3d4da9-56c2-49bc-9b90-5ce221128787",
   "metadata": {},
   "source": [
    ">>a) l’aide de train test split de sklearn.model selection, diviser la base de donn ́ees en base d’apprentissage et base\n",
    "de test (80% pour la base d’apprentissage et 20% pour la base de test )"
   ]
  },
  {
   "cell_type": "code",
   "execution_count": 7,
   "id": "25df697a-6e5d-40c5-b405-ba81c61278b0",
   "metadata": {},
   "outputs": [
    {
     "data": {
      "text/plain": [
       "((160,), (40,), (160,), (40,))"
      ]
     },
     "execution_count": 7,
     "metadata": {},
     "output_type": "execute_result"
    }
   ],
   "source": [
    "X_train, X_test, y_train, y_test = train_test_split(X, y, test_size=0.2, random_state=42)\n",
    "\n",
    "(X_train.shape, X_test.shape, y_train.shape, y_test.shape)"
   ]
  },
  {
   "cell_type": "markdown",
   "id": "d16d4c29-dad7-4f68-9ca0-68d7d81c9f1c",
   "metadata": {},
   "source": [
    ">>(b) Définir une fonction MSE(X,y,W) qui retourne la moyenne des erreurs entre la valeur théorique et la valeur réelle."
   ]
  },
  {
   "cell_type": "markdown",
   "id": "68f53d04-9ca0-44e2-bd5e-c30f56c42bce",
   "metadata": {},
   "source": [
    "La fonction de Mean Squared Error (MSE), ou erreur quadratique moyenne, est définie comme suit:\n",
    "\n",
    "$$ \\text{MSE}(X, y, W) = \\frac{1}{N} \\sum_{i=1}^{N} (y_i - \\hat{y}_i)^2 $$\n",
    "\n",
    "où : <br>\n",
    "<p> \n",
    "    \\( N \\) est le nombre total d'échantillons,\n",
    "</p>\n",
    "<p> \n",
    "    \\( y_i \\) est la valeur réelle de \\( i \\),\n",
    "</p>\n",
    "<p> \n",
    "    \\( \\hat{y}_i \\) est la valeur prédite de \\( i \\), calculée comme \\( \\hat{y}_i = w_0 + w_1x_i \\).\n",
    "</p>"
   ]
  },
  {
   "cell_type": "code",
   "execution_count": 8,
   "id": "8310b6b3-5c66-429c-bfad-90f2784a7973",
   "metadata": {},
   "outputs": [],
   "source": [
    "def MSE(X, y, W):\n",
    "    return np.mean((y - (W[0] + W[1] * X))**2)"
   ]
  },
  {
   "cell_type": "markdown",
   "id": "862e6235-add0-402a-a5a9-c8d82d157c2b",
   "metadata": {},
   "source": [
    ">>(c) Définir la fonction Gradient(X,y,W)."
   ]
  },
  {
   "cell_type": "code",
   "execution_count": 9,
   "id": "9e7e270b-f9f2-44ef-9314-52a05edc416d",
   "metadata": {},
   "outputs": [],
   "source": [
    "def Gradient(X, y, W):\n",
    "    N = len(y)\n",
    "    y_pred = W[0] + W[1] * X\n",
    "    \n",
    "    dW0 = -2/N * np.sum(y - y_pred)\n",
    "    dW1 = -2/N * np.sum(X * (y - y_pred))\n",
    "    \n",
    "    return np.array([dW0, dW1])"
   ]
  },
  {
   "cell_type": "markdown",
   "id": "97ab972c-a1f3-4165-9dd1-6b0389efb3f3",
   "metadata": {},
   "source": [
    ">>(d) Etablir une fonction de mise à jour des paramétres W MiseJour(grad,W,alpha)."
   ]
  },
  {
   "cell_type": "code",
   "execution_count": 10,
   "id": "f8159074-9d9b-4866-a1ff-68df185de679",
   "metadata": {},
   "outputs": [],
   "source": [
    "def Mise_a_Jour(grad, W, alpha):\n",
    "    W_new = W - alpha * grad\n",
    "    return W_new"
   ]
  },
  {
   "cell_type": "markdown",
   "id": "bf081039-c511-4f4f-966f-de9268b57737",
   "metadata": {},
   "source": [
    ">>(e) Ecrire la fonction Batch Gradient Descent(X,y,W,N max,alpha,eps), qui retourne les meilleurs paramétres estimés et de plus affiche l'évolution de MSE aprés chaque itération."
   ]
  },
  {
   "cell_type": "code",
   "execution_count": 11,
   "id": "878ced54-19f4-4356-8b29-2fad4e68c4e4",
   "metadata": {},
   "outputs": [],
   "source": [
    "def Batch_Gradient_Descent(X, y, W, N_max, alpha, eps):\n",
    "    mse_history = [MSE(X, y, W)]\n",
    "    \n",
    "    for i in range(N_max):\n",
    "        grad = Gradient(X, y, W)\n",
    "        W = Mise_a_Jour(grad, W, alpha)\n",
    "        mse_history.append(MSE(X, y, W))\n",
    "                \n",
    "        if abs(mse_history[-1] - mse_history[-2]) < eps:\n",
    "            break\n",
    "\n",
    "    plt.plot(mse_history)\n",
    "    plt.xlabel('Itération')\n",
    "    plt.ylabel('MSE')\n",
    "    plt.title('Évolution de MSE au cours de la descente de gradient')\n",
    "    plt.show()\n",
    "    return W"
   ]
  },
  {
   "cell_type": "markdown",
   "id": "23ac52ba-584e-4318-bdaf-13f81855af71",
   "metadata": {},
   "source": [
    ">>(f) Tracer l’MSE."
   ]
  },
  {
   "cell_type": "code",
   "execution_count": 13,
   "id": "c3aa940f-5cb4-4c2d-9ba7-64741d393f35",
   "metadata": {},
   "outputs": [
    {
     "name": "stderr",
     "output_type": "stream",
     "text": [
      "C:\\Users\\fatim\\AppData\\Local\\Temp\\ipykernel_24528\\3170673145.py:9: RuntimeWarning: invalid value encountered in scalar subtract\n",
      "  if abs(mse_history[-1] - mse_history[-2]) < eps:\n",
      "C:\\Users\\fatim\\AppData\\Local\\Temp\\ipykernel_24528\\2569960049.py:2: RuntimeWarning: invalid value encountered in subtract\n",
      "  W_new = W - alpha * grad\n"
     ]
    },
    {
     "data": {
      "image/png": "[encoded data removed]",
      "text/plain": [
       "<Figure size 640x480 with 1 Axes>"
      ]
     },
     "metadata": {},
     "output_type": "display_data"
    }
   ],
   "source": [
    "import numpy as np\n",
    "W_init = np.array([0, 0]) \n",
    "N_max = 100\n",
    "alpha = 0.1 \n",
    "eps = 0.000001\n",
    "W_opt = Batch_Gradient_Descent(X, y, W_init, N_max, alpha, eps)"
   ]
  },
  {
   "cell_type": "code",
   "execution_count": 14,
   "id": "bfa00caf-576f-4244-bdfa-b05ccde97154",
   "metadata": {},
   "outputs": [
    {
     "data": {
      "image/png": "[encoded data removed]",
      "text/plain": [
       "<Figure size 640x480 with 1 Axes>"
      ]
     },
     "metadata": {},
     "output_type": "display_data"
    }
   ],
   "source": [
    "X_normalized = (X - np.mean(X)) / np.std(X)\n",
    "y_normalized = (y - np.mean(y)) / np.std(y)\n",
    "w = Batch_Gradient_Descent(X_normalized, y_normalized, W_init, N_max, alpha, eps)"
   ]
  },
  {
   "cell_type": "markdown",
   "id": "0b515449-3c5e-48f7-b67a-969fbe996d25",
   "metadata": {},
   "source": [
    "Cette etape s'appele la normalisation de données , après cette derniere l'algorithme de descente de gradient a pu mettre à jour les poids \n",
    "W de manière plus équilibrée et efficace, sans qu'aucune caractéristique ne domine l'autre en raison de sa plus grande échelle."
   ]
  },
  {
   "cell_type": "markdown",
   "id": "ec3aacca-91a6-4082-a821-f38f85acfe12",
   "metadata": {},
   "source": [
    ">> (g) Donner l’erreur de ce modéle."
   ]
  },
  {
   "cell_type": "code",
   "execution_count": 15,
   "id": "dff6e7a8-4d65-4710-979f-20878c02142f",
   "metadata": {},
   "outputs": [
    {
     "name": "stdout",
     "output_type": "stream",
     "text": [
      "MSE: 6.089948192268001\n"
     ]
    }
   ],
   "source": [
    "X_test_normalized = (X_test - np.mean(X)) / np.std(X)\n",
    "y_pred_normalized = w[0] + w[1] * X_test_normalized\n",
    "y_pred = y_pred_normalized * np.std(y) + np.mean(y)\n",
    "mse_test = np.mean((y_test - y_pred)**2)\n",
    "print(f\"MSE: {mse_test}\")"
   ]
  },
  {
   "cell_type": "code",
   "execution_count": null,
   "id": "0d804130",
   "metadata": {},
   "outputs": [],
   "source": []
  }
 ],
 "metadata": {
  "kernelspec": {
   "display_name": "Python 3 (ipykernel)",
   "language": "python",
   "name": "python3"
  },
  "language_info": {
   "codemirror_mode": {
    "name": "ipython",
    "version": 3
   },
   "file_extension": ".py",
   "mimetype": "text/x-python",
   "name": "python",
   "nbconvert_exporter": "python",
   "pygments_lexer": "ipython3",
   "version": "3.11.5"
  }
 },
 "nbformat": 4,
 "nbformat_minor": 5
}
