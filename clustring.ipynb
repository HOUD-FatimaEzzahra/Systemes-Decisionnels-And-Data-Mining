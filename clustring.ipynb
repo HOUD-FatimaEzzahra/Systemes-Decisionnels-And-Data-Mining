{
 "cells": [
  {
   "cell_type": "code",
   "execution_count": 6,
   "id": "0ea789a9",
   "metadata": {},
   "outputs": [],
   "source": [
    "import seaborn as sb\n",
    "import numpy as np\n",
    "from sklearn.datasets import make_blobs\n",
    "from scipy.spatial import distance"
   ]
  },
  {
   "cell_type": "code",
   "execution_count": 2,
   "id": "a1fb743a",
   "metadata": {},
   "outputs": [],
   "source": [
    "centres = [[1,2],[7,8]]\n",
    "data,labels=make_blobs(centers=centres,n_samples=10)"
   ]
  },
  {
   "cell_type": "code",
   "execution_count": 3,
   "id": "55a92ac3",
   "metadata": {},
   "outputs": [
    {
     "name": "stdout",
     "output_type": "stream",
     "text": [
      "[[ 2.99289679 -0.19461177]\n",
      " [ 9.04647827  6.58922835]\n",
      " [ 6.42879076  7.90948738]\n",
      " [ 6.52195181  7.21385363]\n",
      " [ 6.28336379  8.08389087]\n",
      " [ 5.01856024  8.10960142]\n",
      " [-0.44324673  2.50628691]\n",
      " [ 1.02578579  3.45448921]\n",
      " [ 0.91568093  1.82706673]\n",
      " [ 2.03175521  1.2372928 ]]\n"
     ]
    }
   ],
   "source": [
    "print(data)"
   ]
  },
  {
   "cell_type": "code",
   "execution_count": 4,
   "id": "a6a33f18",
   "metadata": {},
   "outputs": [
    {
     "data": {
      "text/plain": [
       "array([0, 1, 1, 1, 1, 1, 0, 0, 0, 0])"
      ]
     },
     "execution_count": 4,
     "metadata": {},
     "output_type": "execute_result"
    }
   ],
   "source": [
    "labels"
   ]
  },
  {
   "cell_type": "code",
   "execution_count": 5,
   "id": "bb929218",
   "metadata": {},
   "outputs": [
    {
     "data": {
      "text/plain": [
       "<Axes: >"
      ]
     },
     "execution_count": 5,
     "metadata": {},
     "output_type": "execute_result"
    },
    {
     "data": {
      "image/png": "[encoded data removed]",
      "text/plain": [
       "<Figure size 640x480 with 1 Axes>"
      ]
     },
     "metadata": {},
     "output_type": "display_data"
    }
   ],
   "source": [
    "sb.scatterplot(x=[x[0] for x in data],\n",
    "              y=[x[1] for x in data])"
   ]
  },
  {
   "cell_type": "code",
   "execution_count": 7,
   "id": "ac13f09e",
   "metadata": {},
   "outputs": [],
   "source": [
    "# Diviser le dataset en deux groupes\n",
    "groupe1 = data[labels == 0]\n",
    "groupe2 = data[labels == 1]"
   ]
  },
  {
   "cell_type": "code",
   "execution_count": 8,
   "id": "b85c2b5c",
   "metadata": {},
   "outputs": [
    {
     "data": {
      "text/plain": [
       "array([[ 2.99289679, -0.19461177],\n",
       "       [-0.44324673,  2.50628691],\n",
       "       [ 1.02578579,  3.45448921],\n",
       "       [ 0.91568093,  1.82706673],\n",
       "       [ 2.03175521,  1.2372928 ]])"
      ]
     },
     "execution_count": 8,
     "metadata": {},
     "output_type": "execute_result"
    }
   ],
   "source": [
    "groupe1"
   ]
  },
  {
   "cell_type": "code",
   "execution_count": 9,
   "id": "f2994b0d",
   "metadata": {},
   "outputs": [
    {
     "data": {
      "text/plain": [
       "array([[9.04647827, 6.58922835],\n",
       "       [6.42879076, 7.90948738],\n",
       "       [6.52195181, 7.21385363],\n",
       "       [6.28336379, 8.08389087],\n",
       "       [5.01856024, 8.10960142]])"
      ]
     },
     "execution_count": 9,
     "metadata": {},
     "output_type": "execute_result"
    }
   ],
   "source": [
    "groupe2"
   ]
  },
  {
   "cell_type": "code",
   "execution_count": 10,
   "id": "61bbf736",
   "metadata": {},
   "outputs": [],
   "source": [
    "# Calculer les centres\n",
    "centre_groupe1 = np.mean(groupe1, axis=0)\n",
    "centre_groupe2 = np.mean(groupe2, axis=0)"
   ]
  },
  {
   "cell_type": "code",
   "execution_count": 11,
   "id": "40962c4b",
   "metadata": {},
   "outputs": [
    {
     "data": {
      "text/plain": [
       "array([1.3045744 , 1.76610477])"
      ]
     },
     "execution_count": 11,
     "metadata": {},
     "output_type": "execute_result"
    }
   ],
   "source": [
    "centre_groupe1"
   ]
  },
  {
   "cell_type": "code",
   "execution_count": 12,
   "id": "3096ba38",
   "metadata": {},
   "outputs": [
    {
     "data": {
      "text/plain": [
       "array([6.65982897, 7.58121233])"
      ]
     },
     "execution_count": 12,
     "metadata": {},
     "output_type": "execute_result"
    }
   ],
   "source": [
    "centre_groupe2"
   ]
  },
  {
   "cell_type": "code",
   "execution_count": 13,
   "id": "1bf7e382",
   "metadata": {},
   "outputs": [],
   "source": [
    "# Calcul de l'inertie intra-classe\n",
    "inertie_intra = sum([distance.euclidean(x, centre_groupe1)**2 for x in groupe1]) + sum([distance.euclidean(x, centre_groupe2)**2 for x in groupe2])"
   ]
  },
  {
   "cell_type": "code",
   "execution_count": 14,
   "id": "f6a84252",
   "metadata": {},
   "outputs": [],
   "source": [
    "# Calcul de l'inertie inter-classe\n",
    "inertie_inter = distance.euclidean(centre_groupe1, centre_groupe2)**2"
   ]
  },
  {
   "cell_type": "code",
   "execution_count": 15,
   "id": "fb45a80a",
   "metadata": {},
   "outputs": [],
   "source": [
    "# Calcul de l'inertie totale\n",
    "inertie_total = inertie_intra + inertie_inter"
   ]
  },
  {
   "cell_type": "code",
   "execution_count": 16,
   "id": "819d8789",
   "metadata": {},
   "outputs": [
    {
     "name": "stdout",
     "output_type": "stream",
     "text": [
      "Inertie intra-classe: 24.55194637673688\n",
      "Inertie inter-classe: 62.4942274293148\n",
      "Inertie totale: 87.04617380605168\n"
     ]
    }
   ],
   "source": [
    "# Afficher les résultats\n",
    "print(\"Inertie intra-classe:\", inertie_intra)\n",
    "print(\"Inertie inter-classe:\", inertie_inter)\n",
    "print(\"Inertie totale:\", inertie_total)"
   ]
  },
  {
   "cell_type": "code",
   "execution_count": null,
   "id": "245023a1",
   "metadata": {},
   "outputs": [],
   "source": []
  }
 ],
 "metadata": {
  "kernelspec": {
   "display_name": "Python 3 (ipykernel)",
   "language": "python",
   "name": "python3"
  },
  "language_info": {
   "codemirror_mode": {
    "name": "ipython",
    "version": 3
   },
   "file_extension": ".py",
   "mimetype": "text/x-python",
   "name": "python",
   "nbconvert_exporter": "python",
   "pygments_lexer": "ipython3",
   "version": "3.11.5"
  }
 },
 "nbformat": 4,
 "nbformat_minor": 5
}
