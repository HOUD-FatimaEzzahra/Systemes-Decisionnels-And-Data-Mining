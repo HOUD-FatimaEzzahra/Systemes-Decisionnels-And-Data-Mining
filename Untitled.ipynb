{
 "cells": [
  {
   "cell_type": "markdown",
   "id": "8f9d9af5",
   "metadata": {},
   "source": [
    "<img src=\"enset.png\" width=\"200\" height=\"50\" style=\"float: right; margin-left: 0px;\">"
   ]
  },
  {
   "cell_type": "markdown",
   "id": "f7b136d7",
   "metadata": {},
   "source": [
    "<u><h1>Systèmes Décisionnels & Data-Mining</h1></u>\n",
    "\n"
   ]
  },
  {
   "cell_type": "markdown",
   "id": "eddf8e0b",
   "metadata": {},
   "source": [
    "## Classification (K-Moyenne)"
   ]
  },
  {
   "cell_type": "markdown",
   "id": "119dea5b",
   "metadata": {},
   "source": [
    "<span style=\"background-color: yellow;\">Algorithme</span>"
   ]
  },
  {
   "cell_type": "markdown",
   "id": "cf88177d",
   "metadata": {},
   "source": [
    "#### Phase d'initialisation (t = 0) :\n",
    "\n",
    "    Choisissez initialement p référents de manière aléatoire.\n",
    "    Fixez le nombre maximal d'itérations NiterNiter​.\n",
    "\n",
    "#### Étape itérative :\n",
    "    À chaque itération t, l'ensemble des référents W(t−1)W(t−1) de l'étape précédente est connu.\n",
    "\n",
    "#### Phase d'affectation :\n",
    "    Mise à jour de la fonction d'affectation χ(t)χ(t) associée à W(t−1)W(t−1). Pour chaque observation xx, on affecte le référent qui minimise la distance euclidienne ∣∣x−wr∣∣2∣∣x−wr​∣∣2, où rr est l'indice du référent choisi. La fonction d'affectation est définie comme :\n",
    "           χ(x)=argminr(∣∣x−wr∣∣2)\n",
    "           χ(x)=argminr​(∣∣x−wr​∣∣2)\n",
    "\n",
    "#### Phase de minimisation :\n",
    "    Calcul des nouveaux référents WtWt en appliquant l'équation suivante pour chaque cluster cc :\n",
    "       > wc=∑xi∈Pc∩Axinc\n",
    "       > wc​=nc​∑xi​∈Pc​∩A​xi​​\n",
    "\n",
    "    Où PcPc​ est l'ensemble des points assignés au cluster cc selon la fonction d'affectation χχ, AA est l'ensemble des observations, et ncnc​ est le nombre d'observations dans le cluster cc.\n",
    "\n",
    "    Répétition de l'étape itérative :\n",
    "    Répétez les phases d'affectation et de minimisation jusqu'à ce que l'on atteigne t>Nitert>Niter​ itérations ou jusqu'à ce qu'une certaine condition de stabilisation soit atteinte.\n",
    "\n",
    ">Cet algorithme itératif vise à trouver des référents représentatifs des clusters dans les données en mettant à jour alternativement les affectations des observations aux clusters et les positions des référents. Il continue à itérer jusqu'à ce qu'une condition d'arrêt soit remplie."
   ]
  },
  {
   "cell_type": "code",
   "execution_count": 12,
   "id": "52cb6310",
   "metadata": {},
   "outputs": [],
   "source": [
    "# importation des libraries\n",
    "import pandas as pd\n",
    "import numpy as np\n",
    "import sklearn as sk\n",
    "from scipy.spatial import distance\n",
    "from sklearn.datasets import make_blobs"
   ]
  },
  {
   "cell_type": "code",
   "execution_count": 7,
   "id": "da172626",
   "metadata": {},
   "outputs": [],
   "source": [
    "def cluster(data, true_labels):\n",
    "    unique_labels = np.unique(true_labels)\n",
    "    clusters = [[] for _ in range(len(unique_labels))]\n",
    "    for i, label in enumerate(true_labels):\n",
    "        clusters[label].append(data[i])\n",
    "    return clusters"
   ]
  },
  {
   "cell_type": "code",
   "execution_count": 8,
   "id": "2386ee3e",
   "metadata": {},
   "outputs": [],
   "source": [
    "def inertie_intra_class(cluster):\n",
    "    n = 0\n",
    "    inertie = 0\n",
    "    for cl in cluster:\n",
    "        s = 0\n",
    "        for x in cl:\n",
    "            for y in cl:\n",
    "                s += distance.euclidean(x, y)**2\n",
    "        n += len(cl)\n",
    "        inertie += s / (2 * len(cl))\n",
    "    return inertie / n\n"
   ]
  },
  {
   "cell_type": "code",
   "execution_count": 9,
   "id": "4c6ed3e6",
   "metadata": {},
   "outputs": [],
   "source": [
    "def inertie_inter_class(cluster, g):\n",
    "    n = 0\n",
    "    inertie = 0\n",
    "    for cl in cluster:\n",
    "        c = np.mean(cl, axis=0)\n",
    "        inertie += len(cl) * distance.euclidean(c, g)**2\n",
    "        n += len(cl)\n",
    "    return inertie / n"
   ]
  },
  {
   "cell_type": "code",
   "execution_count": 10,
   "id": "735d52d1",
   "metadata": {},
   "outputs": [],
   "source": [
    "def inertie_totale(data):\n",
    "    g = np.mean(data, axis=0)\n",
    "    s = 0\n",
    "    for x in data:\n",
    "        s += distance.euclidean(x, g)**2\n",
    "    return s / data.shape[0]"
   ]
  },
  {
   "cell_type": "code",
   "execution_count": 13,
   "id": "5f943d5b",
   "metadata": {},
   "outputs": [],
   "source": [
    "# Exemple d'utilisation avec des données générées aléatoirement\n",
    "centers = [[0, 0], [3, 3]]\n",
    "data, true_labels = make_blobs(centers=centers, n_samples=10)"
   ]
  },
  {
   "cell_type": "code",
   "execution_count": 14,
   "id": "8f7433c1",
   "metadata": {},
   "outputs": [],
   "source": [
    "clusters = cluster(data, true_labels)\n",
    "intra = inertie_intra_class(clusters)\n",
    "inter = inertie_inter_class(clusters, np.mean(data, axis=0))\n",
    "total = intra + inter"
   ]
  },
  {
   "cell_type": "code",
   "execution_count": 15,
   "id": "ebc297ca",
   "metadata": {},
   "outputs": [
    {
     "name": "stdout",
     "output_type": "stream",
     "text": [
      "Inertie Intra-Classe: 2.1895552902366715\n",
      "Inertie Inter-Classe: 5.567562183582728\n",
      "Inertie Totale: 7.7571174738194\n"
     ]
    }
   ],
   "source": [
    "print(\"Inertie Intra-Classe:\", intra)\n",
    "print(\"Inertie Inter-Classe:\", inter)\n",
    "print(\"Inertie Totale:\", total)"
   ]
  },
  {
   "cell_type": "code",
   "execution_count": null,
   "id": "5814f9fd",
   "metadata": {},
   "outputs": [],
   "source": []
  }
 ],
 "metadata": {
  "kernelspec": {
   "display_name": "Python 3 (ipykernel)",
   "language": "python",
   "name": "python3"
  },
  "language_info": {
   "codemirror_mode": {
    "name": "ipython",
    "version": 3
   },
   "file_extension": ".py",
   "mimetype": "text/x-python",
   "name": "python",
   "nbconvert_exporter": "python",
   "pygments_lexer": "ipython3",
   "version": "3.11.5"
  }
 },
 "nbformat": 4,
 "nbformat_minor": 5
}
